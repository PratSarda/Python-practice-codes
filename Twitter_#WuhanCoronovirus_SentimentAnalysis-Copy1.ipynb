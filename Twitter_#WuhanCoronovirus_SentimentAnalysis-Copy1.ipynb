{
 "cells": [
  {
   "cell_type": "code",
   "execution_count": 1,
   "metadata": {},
   "outputs": [],
   "source": [
    "import tweepy as tw\n",
    "import pandas as pd"
   ]
  },
  {
   "cell_type": "code",
   "execution_count": 2,
   "metadata": {},
   "outputs": [],
   "source": [
    "consumer_key = 'hL5Fj50Zyfcoyu5kMOCqNCkC4'\n",
    "consumer_secret = 'sPgksmPcRlH7EZopnwcSKT67iqRW7nLZ6f4F7Bja8SS0mBjOUk'\n",
    "access_token = '1221658561530359809-tB5rQY5GN59OJgSoWaz32zOIWTchXc'\n",
    "access_token_secret = '6e0TL0e6TnDm8squ98m3rqAxNr2CQPVGMxtz7SL084QTM'"
   ]
  },
  {
   "cell_type": "code",
   "execution_count": 3,
   "metadata": {},
   "outputs": [],
   "source": [
    "auth = tw.OAuthHandler(consumer_key, consumer_secret)\n",
    "auth.set_access_token(access_token, access_token_secret)\n",
    "api = tw.API(auth, wait_on_rate_limit=True)"
   ]
  },
  {
   "cell_type": "code",
   "execution_count": 4,
   "metadata": {},
   "outputs": [],
   "source": [
    "search_words = (\"#WuhanCoronovirus\")\n",
    "date_since = \"2019-01-01\"\n",
    "n_tweets = 20"
   ]
  },
  {
   "cell_type": "code",
   "execution_count": 5,
   "metadata": {},
   "outputs": [],
   "source": [
    "tweets = tw.Cursor(api.search, q = search_words, lang = 'en', since = date_since).items(n_tweets)\n",
    "tweet_text_data = [tweet.text for tweet in tweets]"
   ]
  },
  {
   "cell_type": "code",
   "execution_count": 6,
   "metadata": {},
   "outputs": [
    {
     "data": {
      "text/plain": [
       "['RT @JustACalicoCat: Pray for Wuhan\\n\\nFight!!\\n\\n#WuhanCoronovirus',\n",
       " 'RT @make_kong: Hongkongers are welcome all of wars patients of ccp to have free healthcare and cured! 🇨🇳 @realDonaldTrump @realKyleOlbert @…',\n",
       " 'RT @blackpride____: Found out that the world had a new plague starting around the same date for the last few centuries....😳\\U0001f92f\\U0001f92f❗\\n\\nRT✊🏾\\n#Wuhan…',\n",
       " 'RT @Mukhtiarkhan678: This man deserves our endless respect ❤\\nDr. Liang Wudong, who was treating patients of corona virus in wuhan, china,ge…',\n",
       " 'RT @babayaga2_0: #Chinese teach you how to eat #bats.\\n#WuhanCoronovirus \\n#WuhanVirus https://t.co/0DK5nGUdGX',\n",
       " 'RT @DavidStanway: Cock-up and not conspiracy: a shortage of diagnostic equipment could be the main cause of the #WuhanCoronovirus outbreak.…',\n",
       " 'RT @Penguin_Emerald: #WuhanCoronovirus\\nPay respect to them https://t.co/LBqvgJJyQJ',\n",
       " \"RT @NewsAlternative: It's a dog eat dog world out there. \\n\\n#coronavirus  #WuhanCoronovirus #WuhanOutbreak #WuhanPneumonia https://t.co/YoBZ…\",\n",
       " 'RT @ezracheungtoto: Just in: Hong Kong, as an intl transport hub, is particularly vulnerable to epidemics. The city’s flagship airline @cat…',\n",
       " 'RT @Fishho12: Family?? Consider family member feeling!!??\\n\\nFuxk bitxh.. mainlanders themselves did this.. \\n\\nAnd I need to make myself clear…',\n",
       " 'RT @tsrabbit3: Crystal structure of 2019-nCoV main proteinase (Mpro) determined by Labs of Rao Zihe/Yang Haitao at ShanghaiTech Univ. (bein…',\n",
       " 'RT @emma_pard: See guys . #coronavirus #WuhanCoronovirus #CoronaOutbreak https://t.co/cXvTzmNYFl',\n",
       " \"RT @detresfa_: #Wuhan 1000 bed hospital site day 4, #China's pace of work is remarkable #WuhanCoronovirus #coronavirus #nCoV2019 https://t.…\",\n",
       " 'RT @make_kong: Hongkongers are welcome all of wars patients of ccp to have free healthcare and cured! 🇨🇳 @realDonaldTrump @realKyleOlbert @…',\n",
       " 'RT @Waiman0316: This is amazing! #WuhanCoronovirus https://t.co/LfJhDNnmKi',\n",
       " 'RT @evankirstel: A ghost town of 11 MILLION people #Wuhan #WuhanCoronovirus #coronavirus https://t.co/hnp9y9eEWN',\n",
       " \"RT @detresfa_: #Wuhan 1000 bed hospital site day 4, #China's pace of work is remarkable #WuhanCoronovirus #coronavirus #nCoV2019 https://t.…\",\n",
       " 'RT @Sunkway_China: Attention please!\\nSome anti-China accounts are taking advantage of this outbreak and spread fake videos&amp;pictures about i…',\n",
       " 'RT @xinyanyu: Last night, many people confined in their homes opened their windows and shouted “Wuhan add oil”. Some sang songs together an…',\n",
       " 'RT @DrEricDing: HOLY MOTHER OF GOD - the new coronavirus is a 3.8!!! How bad is that reproductive R0 value? It is thermonuclear pandemic le…']"
      ]
     },
     "execution_count": 6,
     "metadata": {},
     "output_type": "execute_result"
    }
   ],
   "source": [
    "tweet_text_data"
   ]
  },
  {
   "cell_type": "code",
   "execution_count": 7,
   "metadata": {},
   "outputs": [
    {
     "data": {
      "text/html": [
       "<div>\n",
       "<style scoped>\n",
       "    .dataframe tbody tr th:only-of-type {\n",
       "        vertical-align: middle;\n",
       "    }\n",
       "\n",
       "    .dataframe tbody tr th {\n",
       "        vertical-align: top;\n",
       "    }\n",
       "\n",
       "    .dataframe thead th {\n",
       "        text-align: right;\n",
       "    }\n",
       "</style>\n",
       "<table border=\"1\" class=\"dataframe\">\n",
       "  <thead>\n",
       "    <tr style=\"text-align: right;\">\n",
       "      <th></th>\n",
       "      <th>text</th>\n",
       "    </tr>\n",
       "  </thead>\n",
       "  <tbody>\n",
       "    <tr>\n",
       "      <th>0</th>\n",
       "      <td>RT @JustACalicoCat: Pray for Wuhan\\n\\nFight!!\\...</td>\n",
       "    </tr>\n",
       "    <tr>\n",
       "      <th>1</th>\n",
       "      <td>RT @make_kong: Hongkongers are welcome all of ...</td>\n",
       "    </tr>\n",
       "    <tr>\n",
       "      <th>2</th>\n",
       "      <td>RT @blackpride____: Found out that the world h...</td>\n",
       "    </tr>\n",
       "    <tr>\n",
       "      <th>3</th>\n",
       "      <td>RT @Mukhtiarkhan678: This man deserves our end...</td>\n",
       "    </tr>\n",
       "    <tr>\n",
       "      <th>4</th>\n",
       "      <td>RT @babayaga2_0: #Chinese teach you how to eat...</td>\n",
       "    </tr>\n",
       "    <tr>\n",
       "      <th>5</th>\n",
       "      <td>RT @DavidStanway: Cock-up and not conspiracy: ...</td>\n",
       "    </tr>\n",
       "    <tr>\n",
       "      <th>6</th>\n",
       "      <td>RT @Penguin_Emerald: #WuhanCoronovirus\\nPay re...</td>\n",
       "    </tr>\n",
       "    <tr>\n",
       "      <th>7</th>\n",
       "      <td>RT @NewsAlternative: It's a dog eat dog world ...</td>\n",
       "    </tr>\n",
       "    <tr>\n",
       "      <th>8</th>\n",
       "      <td>RT @ezracheungtoto: Just in: Hong Kong, as an ...</td>\n",
       "    </tr>\n",
       "    <tr>\n",
       "      <th>9</th>\n",
       "      <td>RT @Fishho12: Family?? Consider family member ...</td>\n",
       "    </tr>\n",
       "    <tr>\n",
       "      <th>10</th>\n",
       "      <td>RT @tsrabbit3: Crystal structure of 2019-nCoV ...</td>\n",
       "    </tr>\n",
       "    <tr>\n",
       "      <th>11</th>\n",
       "      <td>RT @emma_pard: See guys . #coronavirus #WuhanC...</td>\n",
       "    </tr>\n",
       "    <tr>\n",
       "      <th>12</th>\n",
       "      <td>RT @detresfa_: #Wuhan 1000 bed hospital site d...</td>\n",
       "    </tr>\n",
       "    <tr>\n",
       "      <th>13</th>\n",
       "      <td>RT @make_kong: Hongkongers are welcome all of ...</td>\n",
       "    </tr>\n",
       "    <tr>\n",
       "      <th>14</th>\n",
       "      <td>RT @Waiman0316: This is amazing! #WuhanCoronov...</td>\n",
       "    </tr>\n",
       "    <tr>\n",
       "      <th>15</th>\n",
       "      <td>RT @evankirstel: A ghost town of 11 MILLION pe...</td>\n",
       "    </tr>\n",
       "    <tr>\n",
       "      <th>16</th>\n",
       "      <td>RT @detresfa_: #Wuhan 1000 bed hospital site d...</td>\n",
       "    </tr>\n",
       "    <tr>\n",
       "      <th>17</th>\n",
       "      <td>RT @Sunkway_China: Attention please!\\nSome ant...</td>\n",
       "    </tr>\n",
       "    <tr>\n",
       "      <th>18</th>\n",
       "      <td>RT @xinyanyu: Last night, many people confined...</td>\n",
       "    </tr>\n",
       "    <tr>\n",
       "      <th>19</th>\n",
       "      <td>RT @DrEricDing: HOLY MOTHER OF GOD - the new c...</td>\n",
       "    </tr>\n",
       "  </tbody>\n",
       "</table>\n",
       "</div>"
      ],
      "text/plain": [
       "                                                 text\n",
       "0   RT @JustACalicoCat: Pray for Wuhan\\n\\nFight!!\\...\n",
       "1   RT @make_kong: Hongkongers are welcome all of ...\n",
       "2   RT @blackpride____: Found out that the world h...\n",
       "3   RT @Mukhtiarkhan678: This man deserves our end...\n",
       "4   RT @babayaga2_0: #Chinese teach you how to eat...\n",
       "5   RT @DavidStanway: Cock-up and not conspiracy: ...\n",
       "6   RT @Penguin_Emerald: #WuhanCoronovirus\\nPay re...\n",
       "7   RT @NewsAlternative: It's a dog eat dog world ...\n",
       "8   RT @ezracheungtoto: Just in: Hong Kong, as an ...\n",
       "9   RT @Fishho12: Family?? Consider family member ...\n",
       "10  RT @tsrabbit3: Crystal structure of 2019-nCoV ...\n",
       "11  RT @emma_pard: See guys . #coronavirus #WuhanC...\n",
       "12  RT @detresfa_: #Wuhan 1000 bed hospital site d...\n",
       "13  RT @make_kong: Hongkongers are welcome all of ...\n",
       "14  RT @Waiman0316: This is amazing! #WuhanCoronov...\n",
       "15  RT @evankirstel: A ghost town of 11 MILLION pe...\n",
       "16  RT @detresfa_: #Wuhan 1000 bed hospital site d...\n",
       "17  RT @Sunkway_China: Attention please!\\nSome ant...\n",
       "18  RT @xinyanyu: Last night, many people confined...\n",
       "19  RT @DrEricDing: HOLY MOTHER OF GOD - the new c..."
      ]
     },
     "execution_count": 7,
     "metadata": {},
     "output_type": "execute_result"
    }
   ],
   "source": [
    "tweet_text = pd.DataFrame(data = tweet_text_data, columns=['text'])\n",
    "tweet_text"
   ]
  },
  {
   "cell_type": "code",
   "execution_count": 8,
   "metadata": {},
   "outputs": [
    {
     "data": {
      "text/html": [
       "<div>\n",
       "<style scoped>\n",
       "    .dataframe tbody tr th:only-of-type {\n",
       "        vertical-align: middle;\n",
       "    }\n",
       "\n",
       "    .dataframe tbody tr th {\n",
       "        vertical-align: top;\n",
       "    }\n",
       "\n",
       "    .dataframe thead th {\n",
       "        text-align: right;\n",
       "    }\n",
       "</style>\n",
       "<table border=\"1\" class=\"dataframe\">\n",
       "  <thead>\n",
       "    <tr style=\"text-align: right;\">\n",
       "      <th></th>\n",
       "      <th>text</th>\n",
       "    </tr>\n",
       "  </thead>\n",
       "  <tbody>\n",
       "    <tr>\n",
       "      <th>2</th>\n",
       "      <td>RT @blackpride____: Found out that the world h...</td>\n",
       "    </tr>\n",
       "  </tbody>\n",
       "</table>\n",
       "</div>"
      ],
      "text/plain": [
       "                                                text\n",
       "2  RT @blackpride____: Found out that the world h..."
      ]
     },
     "execution_count": 8,
     "metadata": {},
     "output_type": "execute_result"
    }
   ],
   "source": [
    "tweet_text.iloc[[2]]"
   ]
  },
  {
   "cell_type": "code",
   "execution_count": 9,
   "metadata": {
    "scrolled": true
   },
   "outputs": [
    {
     "data": {
      "text/html": [
       "<div>\n",
       "<style scoped>\n",
       "    .dataframe tbody tr th:only-of-type {\n",
       "        vertical-align: middle;\n",
       "    }\n",
       "\n",
       "    .dataframe tbody tr th {\n",
       "        vertical-align: top;\n",
       "    }\n",
       "\n",
       "    .dataframe thead th {\n",
       "        text-align: right;\n",
       "    }\n",
       "</style>\n",
       "<table border=\"1\" class=\"dataframe\">\n",
       "  <thead>\n",
       "    <tr style=\"text-align: right;\">\n",
       "      <th></th>\n",
       "      <th>user</th>\n",
       "      <th>location</th>\n",
       "    </tr>\n",
       "  </thead>\n",
       "  <tbody>\n",
       "    <tr>\n",
       "      <th>0</th>\n",
       "      <td>JokeBuibui</td>\n",
       "      <td>Changwat Phetchaburi, Thailand</td>\n",
       "    </tr>\n",
       "    <tr>\n",
       "      <th>1</th>\n",
       "      <td>ChimchimLiu</td>\n",
       "      <td>People's Republic of China</td>\n",
       "    </tr>\n",
       "    <tr>\n",
       "      <th>2</th>\n",
       "      <td>JangLee43160996</td>\n",
       "      <td></td>\n",
       "    </tr>\n",
       "    <tr>\n",
       "      <th>3</th>\n",
       "      <td>NisasLe</td>\n",
       "      <td></td>\n",
       "    </tr>\n",
       "    <tr>\n",
       "      <th>4</th>\n",
       "      <td>_Yayaaaaaa</td>\n",
       "      <td></td>\n",
       "    </tr>\n",
       "    <tr>\n",
       "      <th>5</th>\n",
       "      <td>InannaGod</td>\n",
       "      <td></td>\n",
       "    </tr>\n",
       "    <tr>\n",
       "      <th>6</th>\n",
       "      <td>ChimchimLiu</td>\n",
       "      <td>People's Republic of China</td>\n",
       "    </tr>\n",
       "    <tr>\n",
       "      <th>7</th>\n",
       "      <td>AntoniusAA01</td>\n",
       "      <td></td>\n",
       "    </tr>\n",
       "    <tr>\n",
       "      <th>8</th>\n",
       "      <td>FaezahAshari</td>\n",
       "      <td></td>\n",
       "    </tr>\n",
       "    <tr>\n",
       "      <th>9</th>\n",
       "      <td>NisasLe</td>\n",
       "      <td></td>\n",
       "    </tr>\n",
       "    <tr>\n",
       "      <th>10</th>\n",
       "      <td>Terry721831</td>\n",
       "      <td></td>\n",
       "    </tr>\n",
       "    <tr>\n",
       "      <th>11</th>\n",
       "      <td>suilee</td>\n",
       "      <td>Beijing</td>\n",
       "    </tr>\n",
       "    <tr>\n",
       "      <th>12</th>\n",
       "      <td>linlu_wannaxo</td>\n",
       "      <td>linhunhan</td>\n",
       "    </tr>\n",
       "    <tr>\n",
       "      <th>13</th>\n",
       "      <td>InannaGod</td>\n",
       "      <td></td>\n",
       "    </tr>\n",
       "    <tr>\n",
       "      <th>14</th>\n",
       "      <td>cy62design</td>\n",
       "      <td>Hong Kong</td>\n",
       "    </tr>\n",
       "    <tr>\n",
       "      <th>15</th>\n",
       "      <td>care_generation</td>\n",
       "      <td></td>\n",
       "    </tr>\n",
       "    <tr>\n",
       "      <th>16</th>\n",
       "      <td>neverlandguk</td>\n",
       "      <td></td>\n",
       "    </tr>\n",
       "    <tr>\n",
       "      <th>17</th>\n",
       "      <td>JokeBuibui</td>\n",
       "      <td>Changwat Phetchaburi, Thailand</td>\n",
       "    </tr>\n",
       "    <tr>\n",
       "      <th>18</th>\n",
       "      <td>peogamots</td>\n",
       "      <td>Hogwarts</td>\n",
       "    </tr>\n",
       "    <tr>\n",
       "      <th>19</th>\n",
       "      <td>VultHk</td>\n",
       "      <td></td>\n",
       "    </tr>\n",
       "  </tbody>\n",
       "</table>\n",
       "</div>"
      ],
      "text/plain": [
       "               user                        location\n",
       "0        JokeBuibui  Changwat Phetchaburi, Thailand\n",
       "1       ChimchimLiu      People's Republic of China\n",
       "2   JangLee43160996                                \n",
       "3           NisasLe                                \n",
       "4        _Yayaaaaaa                                \n",
       "5         InannaGod                                \n",
       "6       ChimchimLiu      People's Republic of China\n",
       "7      AntoniusAA01                                \n",
       "8      FaezahAshari                                \n",
       "9           NisasLe                                \n",
       "10      Terry721831                                \n",
       "11           suilee                         Beijing\n",
       "12    linlu_wannaxo                       linhunhan\n",
       "13        InannaGod                                \n",
       "14       cy62design                       Hong Kong\n",
       "15  care_generation                                \n",
       "16     neverlandguk                                \n",
       "17       JokeBuibui  Changwat Phetchaburi, Thailand\n",
       "18        peogamots                        Hogwarts\n",
       "19           VultHk                                "
      ]
     },
     "execution_count": 9,
     "metadata": {},
     "output_type": "execute_result"
    }
   ],
   "source": [
    "tweets = tw.Cursor(api.search, q = search_words, lang = 'en', since = date_since).items(n_tweets)\n",
    "\n",
    "user_data = [[tweet.user.screen_name, tweet.user.location] for tweet in tweets]\n",
    "tweet_text_loc = pd.DataFrame(data = user_data, columns=['user','location'])\n",
    "\n",
    "tweet_text_loc"
   ]
  },
  {
   "cell_type": "code",
   "execution_count": 10,
   "metadata": {},
   "outputs": [],
   "source": [
    "from vaderSentiment.vaderSentiment import SentimentIntensityAnalyzer\n",
    "analyzer = SentimentIntensityAnalyzer()"
   ]
  },
  {
   "cell_type": "code",
   "execution_count": 11,
   "metadata": {},
   "outputs": [
    {
     "name": "stdout",
     "output_type": "stream",
     "text": [
      "{'neg': 0.0, 'neu': 1.0, 'pos': 0.0, 'compound': 0.0}\n"
     ]
    }
   ],
   "source": [
    "vs = analyzer.polarity_scores(str(tweet_text.iloc[[2]]))\n",
    "print(vs)"
   ]
  },
  {
   "cell_type": "code",
   "execution_count": 12,
   "metadata": {},
   "outputs": [],
   "source": [
    "pos_correct = 0\n",
    "neg_correct = 0\n",
    "neu_correct = 0"
   ]
  },
  {
   "cell_type": "code",
   "execution_count": 13,
   "metadata": {},
   "outputs": [
    {
     "name": "stdout",
     "output_type": "stream",
     "text": [
      "                                                text\n",
      "0  RT @JustACalicoCat: Pray for Wuhan\\n\\nFight!!\\...\n",
      "Sentiment is neutral\n",
      "                                                text\n",
      "1  RT @make_kong: Hongkongers are welcome all of ...\n",
      "Sentiment is neutral\n",
      "                                                text\n",
      "2  RT @blackpride____: Found out that the world h...\n",
      "Sentiment is neutral\n",
      "                                                text\n",
      "3  RT @Mukhtiarkhan678: This man deserves our end...\n",
      "Sentiment is neutral\n",
      "                                                text\n",
      "4  RT @babayaga2_0: #Chinese teach you how to eat...\n",
      "Sentiment is neutral\n",
      "                                                text\n",
      "5  RT @DavidStanway: Cock-up and not conspiracy: ...\n",
      "Sentiment is neutral\n",
      "                                                text\n",
      "6  RT @Penguin_Emerald: #WuhanCoronovirus\\nPay re...\n",
      "Sentiment is neutral\n",
      "                                                text\n",
      "7  RT @NewsAlternative: It's a dog eat dog world ...\n",
      "Sentiment is neutral\n",
      "                                                text\n",
      "8  RT @ezracheungtoto: Just in: Hong Kong, as an ...\n",
      "Sentiment is neutral\n",
      "                                                text\n",
      "9  RT @Fishho12: Family?? Consider family member ...\n",
      "Sentiment is neutral\n",
      "                                                 text\n",
      "10  RT @tsrabbit3: Crystal structure of 2019-nCoV ...\n",
      "Sentiment is neutral\n",
      "                                                 text\n",
      "11  RT @emma_pard: See guys . #coronavirus #WuhanC...\n",
      "Sentiment is neutral\n",
      "                                                 text\n",
      "12  RT @detresfa_: #Wuhan 1000 bed hospital site d...\n",
      "Sentiment is neutral\n",
      "                                                 text\n",
      "13  RT @make_kong: Hongkongers are welcome all of ...\n",
      "Sentiment is neutral\n",
      "                                                 text\n",
      "14  RT @Waiman0316: This is amazing! #WuhanCoronov...\n",
      "Sentiment is positive\n",
      "                                                 text\n",
      "15  RT @evankirstel: A ghost town of 11 MILLION pe...\n",
      "Sentiment is neutral\n",
      "                                                 text\n",
      "16  RT @detresfa_: #Wuhan 1000 bed hospital site d...\n",
      "Sentiment is neutral\n",
      "                                                 text\n",
      "17  RT @Sunkway_China: Attention please!\\nSome ant...\n",
      "Sentiment is neutral\n",
      "                                                 text\n",
      "18  RT @xinyanyu: Last night, many people confined...\n",
      "Sentiment is neutral\n",
      "                                                 text\n",
      "19  RT @DrEricDing: HOLY MOTHER OF GOD - the new c...\n",
      "Sentiment is neutral\n"
     ]
    }
   ],
   "source": [
    "for i in range(n_tweets):\n",
    "    print(tweet_text.iloc[[i]])\n",
    "    vs = analyzer.polarity_scores(str(tweet_text.iloc[[i]]))\n",
    "    if vs['compound'] >= 0.5:\n",
    "        print(\"Sentiment is positive\")\n",
    "        pos_correct += 1\n",
    "    elif vs['compound'] > -0.5 and vs['compound'] < 0.5:\n",
    "        print(\"Sentiment is neutral\")\n",
    "        neu_correct += 1\n",
    "    else:\n",
    "        print(\"Sentiment is negative\")\n",
    "        neg_correct += 1"
   ]
  },
  {
   "cell_type": "code",
   "execution_count": 14,
   "metadata": {},
   "outputs": [
    {
     "name": "stdout",
     "output_type": "stream",
     "text": [
      "Percent of Positive tweets = 5.0% out of 20 tweets\n",
      "Percent of Negative tweets = 0.0% out of 20 tweets\n",
      "Percent of Neutral tweets = 95.0% out of 20 tweets\n"
     ]
    }
   ],
   "source": [
    "print(\"Percent of Positive tweets = {}% out of {} tweets\".format(pos_correct/n_tweets*100.0, n_tweets))\n",
    "print(\"Percent of Negative tweets = {}% out of {} tweets\".format(neg_correct/n_tweets*100.0, n_tweets))\n",
    "print(\"Percent of Neutral tweets = {}% out of {} tweets\".format(neu_correct/n_tweets*100.0, n_tweets))"
   ]
  },
  {
   "cell_type": "code",
   "execution_count": null,
   "metadata": {},
   "outputs": [],
   "source": []
  }
 ],
 "metadata": {
  "kernelspec": {
   "display_name": "Python 3",
   "language": "python",
   "name": "python3"
  },
  "language_info": {
   "codemirror_mode": {
    "name": "ipython",
    "version": 3
   },
   "file_extension": ".py",
   "mimetype": "text/x-python",
   "name": "python",
   "nbconvert_exporter": "python",
   "pygments_lexer": "ipython3",
   "version": "3.6.5"
  }
 },
 "nbformat": 4,
 "nbformat_minor": 2
}
